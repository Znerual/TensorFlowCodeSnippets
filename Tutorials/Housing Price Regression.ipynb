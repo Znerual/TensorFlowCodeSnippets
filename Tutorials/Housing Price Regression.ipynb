{
 "cells": [
  {
   "cell_type": "code",
   "execution_count": 10,
   "id": "dc9ec1fa",
   "metadata": {},
   "outputs": [],
   "source": [
    "from pandas import read_csv\n",
    "from keras.models import Sequential\n",
    "from keras.layers import Dense\n",
    "from keras.wrappers.scikit_learn import KerasRegressor #KerasClassifier\n",
    "from sklearn.model_selection import cross_val_score\n",
    "from sklearn.model_selection import KFold #StratifiedKFold\n",
    "from keras.utils import np_utils\n",
    "#from sklearn.preprocessing import LabelEncoder\n",
    "from sklearn.preprocessing import StandardScaler\n",
    "from sklearn.pipeline import Pipeline"
   ]
  },
  {
   "cell_type": "code",
   "execution_count": 2,
   "id": "c0c5732a",
   "metadata": {},
   "outputs": [],
   "source": [
    "dataframe = read_csv(\"housing.csv\", header=None, delim_whitespace=True)\n",
    "dataset = dataframe.values\n",
    "X = dataset[:,0:13]\n",
    "Y = dataset[:,13]"
   ]
  },
  {
   "cell_type": "code",
   "execution_count": 32,
   "id": "70d6be7d",
   "metadata": {},
   "outputs": [],
   "source": [
    "def baseline_model():\n",
    "    model = Sequential()\n",
    "    model.add(Dense(13, input_dim=13, activation=\"relu\"))\n",
    "    model.add(Dense(6, activation=\"relu\"))\n",
    "    model.add(Dense(1))\n",
    "    \n",
    "    model.compile(loss=\"mean_squared_error\", optimizer=\"adam\")\n",
    "    return model\n",
    "def wide_model():\n",
    "    model = Sequential()\n",
    "    model.add(Dense(20, input_dim=13, activation=\"relu\"))\n",
    "    model.add(Dense(1))\n",
    "    \n",
    "    model.compile(loss=\"mean_squared_error\", optimizer=\"adam\")\n",
    "    return model"
   ]
  },
  {
   "cell_type": "code",
   "execution_count": 33,
   "id": "7c12f1dd",
   "metadata": {},
   "outputs": [],
   "source": [
    "estimators = []\n",
    "estimators.append((\"standardize\", StandardScaler()))\n",
    "estimators.append((\"mlp\", KerasRegressor(build_fn=wide_model,epochs = 100, batch_size=5, verbose=0)))\n",
    "pipeline = Pipeline(estimators)"
   ]
  },
  {
   "cell_type": "code",
   "execution_count": 34,
   "id": "2b61c99d",
   "metadata": {},
   "outputs": [],
   "source": [
    "kfold =KFold(n_splits=10)"
   ]
  },
  {
   "cell_type": "code",
   "execution_count": 35,
   "id": "417c53a1",
   "metadata": {},
   "outputs": [],
   "source": [
    "results = cross_val_score(pipeline, X,Y,cv=kfold)"
   ]
  },
  {
   "cell_type": "code",
   "execution_count": 36,
   "id": "56575c31",
   "metadata": {},
   "outputs": [
    {
     "name": "stdout",
     "output_type": "stream",
     "text": [
      "Baseline: -20.01 (23.95) MSE\n"
     ]
    }
   ],
   "source": [
    "print(\"Baseline: %.2f (%.2f) MSE\" % (results.mean(), results.std()))"
   ]
  },
  {
   "cell_type": "code",
   "execution_count": null,
   "id": "9f8adc0c",
   "metadata": {},
   "outputs": [],
   "source": []
  }
 ],
 "metadata": {
  "kernelspec": {
   "display_name": "Python 3",
   "language": "python",
   "name": "python3"
  },
  "language_info": {
   "codemirror_mode": {
    "name": "ipython",
    "version": 3
   },
   "file_extension": ".py",
   "mimetype": "text/x-python",
   "name": "python",
   "nbconvert_exporter": "python",
   "pygments_lexer": "ipython3",
   "version": "3.8.8"
  },
  "toc": {
   "base_numbering": 1,
   "nav_menu": {},
   "number_sections": true,
   "sideBar": true,
   "skip_h1_title": false,
   "title_cell": "Table of Contents",
   "title_sidebar": "Contents",
   "toc_cell": false,
   "toc_position": {},
   "toc_section_display": true,
   "toc_window_display": false
  }
 },
 "nbformat": 4,
 "nbformat_minor": 5
}
