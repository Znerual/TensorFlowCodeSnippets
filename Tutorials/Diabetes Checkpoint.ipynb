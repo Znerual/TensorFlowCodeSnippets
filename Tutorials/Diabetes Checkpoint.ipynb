{
 "cells": [
  {
   "cell_type": "code",
   "execution_count": 1,
   "id": "0b129887",
   "metadata": {},
   "outputs": [],
   "source": [
    "import numpy\n",
    "from keras.models import Sequential\n",
    "from keras.layers import Dense\n",
    "from keras.callbacks import ModelCheckpoint"
   ]
  },
  {
   "cell_type": "code",
   "execution_count": 2,
   "id": "6783a786",
   "metadata": {},
   "outputs": [],
   "source": [
    "dataset = numpy.loadtxt(\"pima-indians-diabetes.csv\", delimiter=\",\")\n",
    "X = dataset[:,0:8]\n",
    "y = dataset[:,8]"
   ]
  },
  {
   "cell_type": "code",
   "execution_count": 3,
   "id": "c7614f67",
   "metadata": {},
   "outputs": [],
   "source": [
    "model = Sequential()\n",
    "model.add(Dense(12, input_dim=8, activation=\"relu\"))\n",
    "model.add(Dense(8,activation=\"relu\"))\n",
    "model.add(Dense(1, activation=\"sigmoid\"))\n",
    "\n",
    "model.compile(loss=\"binary_crossentropy\", optimizer=\"adam\", metrics=[\"accuracy\"])"
   ]
  },
  {
   "cell_type": "markdown",
   "id": "49755e36",
   "metadata": {},
   "source": [
    "### Save to new file every time accuracy improved"
   ]
  },
  {
   "cell_type": "code",
   "execution_count": 5,
   "id": "c679032c",
   "metadata": {},
   "outputs": [],
   "source": [
    "filepath = \"checkpoints/weights-improvement-{epoch:02d}-{val_accuracy:.2f}.hdf5\"\n",
    "checkpoint = ModelCheckpoint(filepath, monitor=\"val_accuracy\", verbose=1, save_best_only=True, mode=\"max\")\n",
    "callback_list = [checkpoint]"
   ]
  },
  {
   "cell_type": "markdown",
   "id": "0c0bb9dd",
   "metadata": {},
   "source": [
    "### Overwrite file with best weights"
   ]
  },
  {
   "cell_type": "code",
   "execution_count": 7,
   "id": "3f0cb941",
   "metadata": {},
   "outputs": [],
   "source": [
    "filepath = \"checkpoints/weights.best.hdf5\"\n",
    "checkpoint = ModelCheckpoint(filepath, monitor=\"val_accuracy\", verbose=1, save_best_only=True, mode=\"max\")\n",
    "callback_list = [checkpoint]"
   ]
  },
  {
   "cell_type": "code",
   "execution_count": 8,
   "id": "f5895872",
   "metadata": {},
   "outputs": [
    {
     "name": "stdout",
     "output_type": "stream",
     "text": [
      "\n",
      "Epoch 00001: val_accuracy improved from -inf to 0.67323, saving model to checkpoints\\weights.best.hdf5\n",
      "\n",
      "Epoch 00002: val_accuracy did not improve from 0.67323\n",
      "\n",
      "Epoch 00003: val_accuracy did not improve from 0.67323\n",
      "\n",
      "Epoch 00004: val_accuracy did not improve from 0.67323\n",
      "\n",
      "Epoch 00005: val_accuracy did not improve from 0.67323\n",
      "\n",
      "Epoch 00006: val_accuracy did not improve from 0.67323\n",
      "\n",
      "Epoch 00007: val_accuracy did not improve from 0.67323\n",
      "\n",
      "Epoch 00008: val_accuracy did not improve from 0.67323\n",
      "\n",
      "Epoch 00009: val_accuracy did not improve from 0.67323\n",
      "\n",
      "Epoch 00010: val_accuracy did not improve from 0.67323\n",
      "\n",
      "Epoch 00011: val_accuracy did not improve from 0.67323\n",
      "\n",
      "Epoch 00012: val_accuracy did not improve from 0.67323\n",
      "\n",
      "Epoch 00013: val_accuracy did not improve from 0.67323\n",
      "\n",
      "Epoch 00014: val_accuracy did not improve from 0.67323\n",
      "\n",
      "Epoch 00015: val_accuracy did not improve from 0.67323\n",
      "\n",
      "Epoch 00016: val_accuracy did not improve from 0.67323\n",
      "\n",
      "Epoch 00017: val_accuracy did not improve from 0.67323\n",
      "\n",
      "Epoch 00018: val_accuracy did not improve from 0.67323\n",
      "\n",
      "Epoch 00019: val_accuracy did not improve from 0.67323\n",
      "\n",
      "Epoch 00020: val_accuracy did not improve from 0.67323\n",
      "\n",
      "Epoch 00021: val_accuracy did not improve from 0.67323\n",
      "\n",
      "Epoch 00022: val_accuracy did not improve from 0.67323\n",
      "\n",
      "Epoch 00023: val_accuracy did not improve from 0.67323\n",
      "\n",
      "Epoch 00024: val_accuracy did not improve from 0.67323\n",
      "\n",
      "Epoch 00025: val_accuracy did not improve from 0.67323\n",
      "\n",
      "Epoch 00026: val_accuracy did not improve from 0.67323\n",
      "\n",
      "Epoch 00027: val_accuracy did not improve from 0.67323\n",
      "\n",
      "Epoch 00028: val_accuracy did not improve from 0.67323\n",
      "\n",
      "Epoch 00029: val_accuracy did not improve from 0.67323\n",
      "\n",
      "Epoch 00030: val_accuracy did not improve from 0.67323\n",
      "\n",
      "Epoch 00031: val_accuracy did not improve from 0.67323\n",
      "\n",
      "Epoch 00032: val_accuracy did not improve from 0.67323\n",
      "\n",
      "Epoch 00033: val_accuracy did not improve from 0.67323\n",
      "\n",
      "Epoch 00034: val_accuracy did not improve from 0.67323\n",
      "\n",
      "Epoch 00035: val_accuracy did not improve from 0.67323\n",
      "\n",
      "Epoch 00036: val_accuracy did not improve from 0.67323\n",
      "\n",
      "Epoch 00037: val_accuracy did not improve from 0.67323\n",
      "\n",
      "Epoch 00038: val_accuracy did not improve from 0.67323\n",
      "\n",
      "Epoch 00039: val_accuracy did not improve from 0.67323\n",
      "\n",
      "Epoch 00040: val_accuracy did not improve from 0.67323\n",
      "\n",
      "Epoch 00041: val_accuracy did not improve from 0.67323\n",
      "\n",
      "Epoch 00042: val_accuracy did not improve from 0.67323\n",
      "\n",
      "Epoch 00043: val_accuracy did not improve from 0.67323\n",
      "\n",
      "Epoch 00044: val_accuracy did not improve from 0.67323\n",
      "\n",
      "Epoch 00045: val_accuracy did not improve from 0.67323\n",
      "\n",
      "Epoch 00046: val_accuracy did not improve from 0.67323\n",
      "\n",
      "Epoch 00047: val_accuracy did not improve from 0.67323\n",
      "\n",
      "Epoch 00048: val_accuracy improved from 0.67323 to 0.68110, saving model to checkpoints\\weights.best.hdf5\n",
      "\n",
      "Epoch 00049: val_accuracy did not improve from 0.68110\n",
      "\n",
      "Epoch 00050: val_accuracy did not improve from 0.68110\n",
      "\n",
      "Epoch 00051: val_accuracy did not improve from 0.68110\n",
      "\n",
      "Epoch 00052: val_accuracy did not improve from 0.68110\n",
      "\n",
      "Epoch 00053: val_accuracy did not improve from 0.68110\n",
      "\n",
      "Epoch 00054: val_accuracy did not improve from 0.68110\n",
      "\n",
      "Epoch 00055: val_accuracy did not improve from 0.68110\n",
      "\n",
      "Epoch 00056: val_accuracy did not improve from 0.68110\n",
      "\n",
      "Epoch 00057: val_accuracy did not improve from 0.68110\n",
      "\n",
      "Epoch 00058: val_accuracy did not improve from 0.68110\n",
      "\n",
      "Epoch 00059: val_accuracy did not improve from 0.68110\n",
      "\n",
      "Epoch 00060: val_accuracy did not improve from 0.68110\n",
      "\n",
      "Epoch 00061: val_accuracy did not improve from 0.68110\n",
      "\n",
      "Epoch 00062: val_accuracy did not improve from 0.68110\n",
      "\n",
      "Epoch 00063: val_accuracy did not improve from 0.68110\n",
      "\n",
      "Epoch 00064: val_accuracy did not improve from 0.68110\n",
      "\n",
      "Epoch 00065: val_accuracy did not improve from 0.68110\n",
      "\n",
      "Epoch 00066: val_accuracy did not improve from 0.68110\n",
      "\n",
      "Epoch 00067: val_accuracy did not improve from 0.68110\n",
      "\n",
      "Epoch 00068: val_accuracy did not improve from 0.68110\n",
      "\n",
      "Epoch 00069: val_accuracy did not improve from 0.68110\n",
      "\n",
      "Epoch 00070: val_accuracy did not improve from 0.68110\n",
      "\n",
      "Epoch 00071: val_accuracy did not improve from 0.68110\n",
      "\n",
      "Epoch 00072: val_accuracy did not improve from 0.68110\n",
      "\n",
      "Epoch 00073: val_accuracy did not improve from 0.68110\n",
      "\n",
      "Epoch 00074: val_accuracy did not improve from 0.68110\n",
      "\n",
      "Epoch 00075: val_accuracy did not improve from 0.68110\n",
      "\n",
      "Epoch 00076: val_accuracy did not improve from 0.68110\n",
      "\n",
      "Epoch 00077: val_accuracy did not improve from 0.68110\n",
      "\n",
      "Epoch 00078: val_accuracy did not improve from 0.68110\n",
      "\n",
      "Epoch 00079: val_accuracy did not improve from 0.68110\n",
      "\n",
      "Epoch 00080: val_accuracy did not improve from 0.68110\n",
      "\n",
      "Epoch 00081: val_accuracy did not improve from 0.68110\n",
      "\n",
      "Epoch 00082: val_accuracy did not improve from 0.68110\n",
      "\n",
      "Epoch 00083: val_accuracy did not improve from 0.68110\n",
      "\n",
      "Epoch 00084: val_accuracy did not improve from 0.68110\n",
      "\n",
      "Epoch 00085: val_accuracy did not improve from 0.68110\n",
      "\n",
      "Epoch 00086: val_accuracy did not improve from 0.68110\n",
      "\n",
      "Epoch 00087: val_accuracy did not improve from 0.68110\n",
      "\n",
      "Epoch 00088: val_accuracy did not improve from 0.68110\n",
      "\n",
      "Epoch 00089: val_accuracy did not improve from 0.68110\n",
      "\n",
      "Epoch 00090: val_accuracy did not improve from 0.68110\n",
      "\n",
      "Epoch 00091: val_accuracy did not improve from 0.68110\n",
      "\n",
      "Epoch 00092: val_accuracy did not improve from 0.68110\n",
      "\n",
      "Epoch 00093: val_accuracy did not improve from 0.68110\n",
      "\n",
      "Epoch 00094: val_accuracy did not improve from 0.68110\n",
      "\n",
      "Epoch 00095: val_accuracy did not improve from 0.68110\n",
      "\n",
      "Epoch 00096: val_accuracy did not improve from 0.68110\n",
      "\n",
      "Epoch 00097: val_accuracy did not improve from 0.68110\n",
      "\n",
      "Epoch 00098: val_accuracy did not improve from 0.68110\n",
      "\n",
      "Epoch 00099: val_accuracy did not improve from 0.68110\n",
      "\n",
      "Epoch 00100: val_accuracy did not improve from 0.68110\n"
     ]
    },
    {
     "data": {
      "text/plain": [
       "<tensorflow.python.keras.callbacks.History at 0x1ce1d8b73d0>"
      ]
     },
     "execution_count": 8,
     "metadata": {},
     "output_type": "execute_result"
    }
   ],
   "source": [
    "model.fit(X,y, validation_split=0.33, epochs=100, batch_size=10, callbacks=callback_list, verbose=0)"
   ]
  },
  {
   "cell_type": "markdown",
   "id": "c08fb844",
   "metadata": {},
   "source": [
    "### Load a checkpoint"
   ]
  },
  {
   "cell_type": "code",
   "execution_count": 11,
   "id": "4487e824",
   "metadata": {},
   "outputs": [],
   "source": [
    "model.load_weights(\"checkpoints/weights.best.hdf5\")\n",
    "model.compile(loss=\"binary_crossentropy\", optimizer=\"adam\", metrics=[\"accuracy\"])"
   ]
  },
  {
   "cell_type": "code",
   "execution_count": 12,
   "id": "c976e1a3",
   "metadata": {},
   "outputs": [
    {
     "name": "stdout",
     "output_type": "stream",
     "text": [
      "accuracy: 65.23%\n"
     ]
    }
   ],
   "source": [
    "scores = model.evaluate(X,y,verbose=0)\n",
    "print(\"%s: %.2f%%\" % (model.metrics_names[1], scores[1]*100))"
   ]
  },
  {
   "cell_type": "code",
   "execution_count": null,
   "id": "05e759e9",
   "metadata": {},
   "outputs": [],
   "source": []
  }
 ],
 "metadata": {
  "kernelspec": {
   "display_name": "Python 3",
   "language": "python",
   "name": "python3"
  },
  "language_info": {
   "codemirror_mode": {
    "name": "ipython",
    "version": 3
   },
   "file_extension": ".py",
   "mimetype": "text/x-python",
   "name": "python",
   "nbconvert_exporter": "python",
   "pygments_lexer": "ipython3",
   "version": "3.8.8"
  },
  "toc": {
   "base_numbering": 1,
   "nav_menu": {},
   "number_sections": true,
   "sideBar": true,
   "skip_h1_title": false,
   "title_cell": "Table of Contents",
   "title_sidebar": "Contents",
   "toc_cell": false,
   "toc_position": {},
   "toc_section_display": true,
   "toc_window_display": false
  }
 },
 "nbformat": 4,
 "nbformat_minor": 5
}
