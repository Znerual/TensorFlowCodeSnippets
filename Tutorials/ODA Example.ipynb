{
 "cells": [
  {
   "cell_type": "code",
   "execution_count": null,
   "id": "a8850a6c",
   "metadata": {},
   "outputs": [],
   "source": [
    "#https://towardsdatascience.com/building-a-toy-detector-with-tensorflow-object-detection-api-63c0fdf2ac95\n",
    "#https://tensorflow-object-detection-api-tutorial.readthedocs.io/en/latest/training.html"
   ]
  },
  {
   "cell_type": "code",
   "execution_count": null,
   "id": "33387d46",
   "metadata": {},
   "outputs": [],
   "source": []
  }
 ],
 "metadata": {
  "kernelspec": {
   "display_name": "Python 3",
   "language": "python",
   "name": "python3"
  },
  "language_info": {
   "codemirror_mode": {
    "name": "ipython",
    "version": 3
   },
   "file_extension": ".py",
   "mimetype": "text/x-python",
   "name": "python",
   "nbconvert_exporter": "python",
   "pygments_lexer": "ipython3",
   "version": "3.8.8"
  }
 },
 "nbformat": 4,
 "nbformat_minor": 5
}
