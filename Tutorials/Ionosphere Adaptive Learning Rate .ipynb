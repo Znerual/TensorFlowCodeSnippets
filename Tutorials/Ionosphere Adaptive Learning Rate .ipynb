{
 "cells": [
  {
   "cell_type": "markdown",
   "id": "aa948b44",
   "metadata": {},
   "source": [
    "## How to choose the decay\n",
    "The learnrate is definded as: leanringrate = learningrate / (1 + decay * epoch)\n",
    "- A good startingpoint is decay = learningrate / epochs, reducing continously\n",
    "- Another option is to reduce the learningrate drop-wise\n",
    "- Start with a larger learningrate\n",
    "- A larger momentum\n",
    "- Try different schedules\n"
   ]
  },
  {
   "cell_type": "code",
   "execution_count": 8,
   "id": "519a4941",
   "metadata": {},
   "outputs": [],
   "source": [
    "from pandas import read_csv\n",
    "import math\n",
    "from keras.models import Sequential\n",
    "from keras.layers import Dense\n",
    "from keras.optimizers import SGD\n",
    "from sklearn.preprocessing import LabelEncoder\n",
    "from keras.callbacks import LearningRateScheduler"
   ]
  },
  {
   "cell_type": "code",
   "execution_count": 3,
   "id": "68b62803",
   "metadata": {},
   "outputs": [],
   "source": [
    "dataframe = read_csv(\"ionosphere.csv\", header=None)\n",
    "dataset = dataframe.values\n",
    "X = dataset[:,0:34].astype(float)\n",
    "Y = dataset[:,34]"
   ]
  },
  {
   "cell_type": "code",
   "execution_count": 4,
   "id": "d03eba58",
   "metadata": {},
   "outputs": [],
   "source": [
    "encoder = LabelEncoder()\n",
    "encoder.fit(Y)\n",
    "Y = encoder.transform(Y)"
   ]
  },
  {
   "cell_type": "markdown",
   "id": "59430f10",
   "metadata": {},
   "source": [
    "### Continously"
   ]
  },
  {
   "cell_type": "code",
   "execution_count": null,
   "id": "e684870d",
   "metadata": {},
   "outputs": [],
   "source": [
    "#continously\n",
    "epochs = 50\n",
    "learning_rate = 0.1\n",
    "decay_rate = learning_rate / epochs\n",
    "momentum = 0.8\n",
    "sgd = SGD(lr=learning_rate, momentum=momentum, decay=decay_rate, nesterov=False)\n"
   ]
  },
  {
   "cell_type": "markdown",
   "id": "9963c6b8",
   "metadata": {},
   "source": [
    "### Drop wise"
   ]
  },
  {
   "cell_type": "code",
   "execution_count": 9,
   "id": "012938e5",
   "metadata": {},
   "outputs": [],
   "source": [
    "epochs = 50\n",
    "momentum = 0.8\n",
    "def step_decay(epoch):\n",
    "    initial_learnrate = 0.1\n",
    "    drop = 0.5\n",
    "    epochs_drop = 10.0\n",
    "    learnrate = initial_learnrate * math.pow(drop, math.floor((1+epoch) / epochs_drop))\n",
    "    return learnrate\n",
    "\n",
    "sgd = SGD(lr=0.0, momentum=momentum)"
   ]
  },
  {
   "cell_type": "code",
   "execution_count": 6,
   "id": "6b2f4708",
   "metadata": {},
   "outputs": [],
   "source": [
    "model = Sequential()\n",
    "model.add(Dense(34, input_dim=34, activation=\"relu\"))\n",
    "model.add(Dense(1,activation=\"sigmoid\"))\n",
    "model.compile(loss=\"binary_crossentropy\", optimizer=sgd, metrics=[\"accuracy\"])"
   ]
  },
  {
   "cell_type": "code",
   "execution_count": 10,
   "id": "46a5606e",
   "metadata": {},
   "outputs": [],
   "source": [
    "#drop wise\n",
    "learningrate = LearningRateScheduler(step_decay)\n",
    "callback_list=[learningrate]"
   ]
  },
  {
   "cell_type": "code",
   "execution_count": 11,
   "id": "4b5a6cff",
   "metadata": {},
   "outputs": [
    {
     "name": "stdout",
     "output_type": "stream",
     "text": [
      "Epoch 1/50\n",
      "9/9 - 0s - loss: 0.0417 - accuracy: 0.9915 - val_loss: 0.0649 - val_accuracy: 0.9828\n",
      "Epoch 2/50\n",
      "9/9 - 0s - loss: 0.0431 - accuracy: 0.9915 - val_loss: 0.0685 - val_accuracy: 0.9828\n",
      "Epoch 3/50\n",
      "9/9 - 0s - loss: 0.0408 - accuracy: 0.9915 - val_loss: 0.0640 - val_accuracy: 0.9828\n",
      "Epoch 4/50\n",
      "9/9 - 0s - loss: 0.0396 - accuracy: 0.9915 - val_loss: 0.0601 - val_accuracy: 0.9828\n",
      "Epoch 5/50\n",
      "9/9 - 0s - loss: 0.0413 - accuracy: 0.9915 - val_loss: 0.0612 - val_accuracy: 0.9828\n",
      "Epoch 6/50\n",
      "9/9 - 0s - loss: 0.0393 - accuracy: 0.9915 - val_loss: 0.0632 - val_accuracy: 0.9828\n",
      "Epoch 7/50\n",
      "9/9 - 0s - loss: 0.0381 - accuracy: 0.9915 - val_loss: 0.0642 - val_accuracy: 0.9828\n",
      "Epoch 8/50\n",
      "9/9 - 0s - loss: 0.0388 - accuracy: 0.9957 - val_loss: 0.0660 - val_accuracy: 0.9828\n",
      "Epoch 9/50\n",
      "9/9 - 0s - loss: 0.0381 - accuracy: 0.9957 - val_loss: 0.0659 - val_accuracy: 0.9828\n",
      "Epoch 10/50\n",
      "9/9 - 0s - loss: 0.0374 - accuracy: 0.9915 - val_loss: 0.0706 - val_accuracy: 0.9828\n",
      "Epoch 11/50\n",
      "9/9 - 0s - loss: 0.0370 - accuracy: 0.9915 - val_loss: 0.0636 - val_accuracy: 0.9828\n",
      "Epoch 12/50\n",
      "9/9 - 0s - loss: 0.0362 - accuracy: 0.9957 - val_loss: 0.0600 - val_accuracy: 0.9828\n",
      "Epoch 13/50\n",
      "9/9 - 0s - loss: 0.0363 - accuracy: 0.9957 - val_loss: 0.0653 - val_accuracy: 0.9828\n",
      "Epoch 14/50\n",
      "9/9 - 0s - loss: 0.0358 - accuracy: 0.9915 - val_loss: 0.0649 - val_accuracy: 0.9828\n",
      "Epoch 15/50\n",
      "9/9 - 0s - loss: 0.0362 - accuracy: 0.9957 - val_loss: 0.0648 - val_accuracy: 0.9828\n",
      "Epoch 16/50\n",
      "9/9 - 0s - loss: 0.0363 - accuracy: 0.9915 - val_loss: 0.0744 - val_accuracy: 0.9828\n",
      "Epoch 17/50\n",
      "9/9 - 0s - loss: 0.0358 - accuracy: 0.9915 - val_loss: 0.0644 - val_accuracy: 0.9828\n",
      "Epoch 18/50\n",
      "9/9 - 0s - loss: 0.0356 - accuracy: 0.9957 - val_loss: 0.0604 - val_accuracy: 0.9828\n",
      "Epoch 19/50\n",
      "9/9 - 0s - loss: 0.0354 - accuracy: 0.9957 - val_loss: 0.0644 - val_accuracy: 0.9828\n",
      "Epoch 20/50\n",
      "9/9 - 0s - loss: 0.0347 - accuracy: 0.9957 - val_loss: 0.0671 - val_accuracy: 0.9828\n",
      "Epoch 21/50\n",
      "9/9 - 0s - loss: 0.0349 - accuracy: 0.9915 - val_loss: 0.0721 - val_accuracy: 0.9828\n",
      "Epoch 22/50\n",
      "9/9 - 0s - loss: 0.0351 - accuracy: 0.9957 - val_loss: 0.0657 - val_accuracy: 0.9828\n",
      "Epoch 23/50\n",
      "9/9 - 0s - loss: 0.0347 - accuracy: 0.9957 - val_loss: 0.0649 - val_accuracy: 0.9828\n",
      "Epoch 24/50\n",
      "9/9 - 0s - loss: 0.0349 - accuracy: 0.9957 - val_loss: 0.0631 - val_accuracy: 0.9828\n",
      "Epoch 25/50\n",
      "9/9 - 0s - loss: 0.0360 - accuracy: 0.9957 - val_loss: 0.0707 - val_accuracy: 0.9828\n",
      "Epoch 26/50\n",
      "9/9 - 0s - loss: 0.0346 - accuracy: 0.9957 - val_loss: 0.0665 - val_accuracy: 0.9828\n",
      "Epoch 27/50\n",
      "9/9 - 0s - loss: 0.0342 - accuracy: 0.9957 - val_loss: 0.0642 - val_accuracy: 0.9828\n",
      "Epoch 28/50\n",
      "9/9 - 0s - loss: 0.0342 - accuracy: 0.9957 - val_loss: 0.0641 - val_accuracy: 0.9828\n",
      "Epoch 29/50\n",
      "9/9 - 0s - loss: 0.0344 - accuracy: 0.9957 - val_loss: 0.0629 - val_accuracy: 0.9828\n",
      "Epoch 30/50\n",
      "9/9 - 0s - loss: 0.0341 - accuracy: 0.9957 - val_loss: 0.0627 - val_accuracy: 0.9828\n",
      "Epoch 31/50\n",
      "9/9 - 0s - loss: 0.0340 - accuracy: 0.9957 - val_loss: 0.0661 - val_accuracy: 0.9828\n",
      "Epoch 32/50\n",
      "9/9 - 0s - loss: 0.0340 - accuracy: 0.9957 - val_loss: 0.0653 - val_accuracy: 0.9828\n",
      "Epoch 33/50\n",
      "9/9 - 0s - loss: 0.0340 - accuracy: 0.9957 - val_loss: 0.0645 - val_accuracy: 0.9828\n",
      "Epoch 34/50\n",
      "9/9 - 0s - loss: 0.0338 - accuracy: 0.9957 - val_loss: 0.0669 - val_accuracy: 0.9828\n",
      "Epoch 35/50\n",
      "9/9 - 0s - loss: 0.0339 - accuracy: 0.9957 - val_loss: 0.0663 - val_accuracy: 0.9828\n",
      "Epoch 36/50\n",
      "9/9 - 0s - loss: 0.0339 - accuracy: 0.9957 - val_loss: 0.0663 - val_accuracy: 0.9828\n",
      "Epoch 37/50\n",
      "9/9 - 0s - loss: 0.0339 - accuracy: 0.9957 - val_loss: 0.0645 - val_accuracy: 0.9828\n",
      "Epoch 38/50\n",
      "9/9 - 0s - loss: 0.0337 - accuracy: 0.9957 - val_loss: 0.0647 - val_accuracy: 0.9828\n",
      "Epoch 39/50\n",
      "9/9 - 0s - loss: 0.0337 - accuracy: 0.9957 - val_loss: 0.0643 - val_accuracy: 0.9828\n",
      "Epoch 40/50\n",
      "9/9 - 0s - loss: 0.0336 - accuracy: 0.9957 - val_loss: 0.0643 - val_accuracy: 0.9828\n",
      "Epoch 41/50\n",
      "9/9 - 0s - loss: 0.0336 - accuracy: 0.9957 - val_loss: 0.0644 - val_accuracy: 0.9828\n",
      "Epoch 42/50\n",
      "9/9 - 0s - loss: 0.0336 - accuracy: 0.9957 - val_loss: 0.0638 - val_accuracy: 0.9828\n",
      "Epoch 43/50\n",
      "9/9 - 0s - loss: 0.0336 - accuracy: 0.9957 - val_loss: 0.0637 - val_accuracy: 0.9828\n",
      "Epoch 44/50\n",
      "9/9 - 0s - loss: 0.0335 - accuracy: 0.9957 - val_loss: 0.0638 - val_accuracy: 0.9828\n",
      "Epoch 45/50\n",
      "9/9 - 0s - loss: 0.0335 - accuracy: 0.9957 - val_loss: 0.0637 - val_accuracy: 0.9828\n",
      "Epoch 46/50\n",
      "9/9 - 0s - loss: 0.0336 - accuracy: 0.9957 - val_loss: 0.0637 - val_accuracy: 0.9828\n",
      "Epoch 47/50\n",
      "9/9 - 0s - loss: 0.0335 - accuracy: 0.9957 - val_loss: 0.0633 - val_accuracy: 0.9828\n",
      "Epoch 48/50\n",
      "9/9 - 0s - loss: 0.0335 - accuracy: 0.9957 - val_loss: 0.0635 - val_accuracy: 0.9828\n",
      "Epoch 49/50\n",
      "9/9 - 0s - loss: 0.0335 - accuracy: 0.9957 - val_loss: 0.0631 - val_accuracy: 0.9828\n",
      "Epoch 50/50\n",
      "9/9 - 0s - loss: 0.0335 - accuracy: 0.9957 - val_loss: 0.0628 - val_accuracy: 0.9828\n"
     ]
    },
    {
     "data": {
      "text/plain": [
       "<tensorflow.python.keras.callbacks.History at 0x25e5708bd30>"
      ]
     },
     "execution_count": 11,
     "metadata": {},
     "output_type": "execute_result"
    }
   ],
   "source": [
    "model.fit(X,Y,validation_split=0.33, epochs=epochs, batch_size=28,callbacks=callback_list, verbose=2)"
   ]
  },
  {
   "cell_type": "code",
   "execution_count": null,
   "id": "5bd7d60c",
   "metadata": {},
   "outputs": [],
   "source": []
  }
 ],
 "metadata": {
  "kernelspec": {
   "display_name": "Python 3",
   "language": "python",
   "name": "python3"
  },
  "language_info": {
   "codemirror_mode": {
    "name": "ipython",
    "version": 3
   },
   "file_extension": ".py",
   "mimetype": "text/x-python",
   "name": "python",
   "nbconvert_exporter": "python",
   "pygments_lexer": "ipython3",
   "version": "3.8.8"
  },
  "toc": {
   "base_numbering": 1,
   "nav_menu": {},
   "number_sections": true,
   "sideBar": true,
   "skip_h1_title": false,
   "title_cell": "Table of Contents",
   "title_sidebar": "Contents",
   "toc_cell": false,
   "toc_position": {},
   "toc_section_display": true,
   "toc_window_display": false
  }
 },
 "nbformat": 4,
 "nbformat_minor": 5
}
