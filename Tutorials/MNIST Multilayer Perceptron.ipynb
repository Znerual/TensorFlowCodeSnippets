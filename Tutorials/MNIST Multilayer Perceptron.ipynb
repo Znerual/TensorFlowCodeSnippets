{
 "cells": [
  {
   "cell_type": "code",
   "execution_count": 4,
   "id": "9c78388e",
   "metadata": {},
   "outputs": [],
   "source": [
    "from keras.datasets import mnist\n",
    "from keras.models import Sequential\n",
    "from keras.layers import Dense\n",
    "from keras.layers import Dropout\n",
    "from keras.utils import np_utils"
   ]
  },
  {
   "cell_type": "code",
   "execution_count": 17,
   "id": "5c672eec",
   "metadata": {},
   "outputs": [],
   "source": [
    "(X_train, y_train), (X_test, y_test) = mnist.load_data()"
   ]
  },
  {
   "cell_type": "code",
   "execution_count": 19,
   "id": "d804c073",
   "metadata": {},
   "outputs": [],
   "source": [
    "#flatten\n",
    "num_pixels = X_train.shape[1] * X_train.shape[2]\n",
    "X_train = X_train.reshape((X_train.shape[0], num_pixels)).astype(\"float32\")\n",
    "X_test = X_test.reshape((X_test.shape[0], num_pixels)).astype(\"float32\")\n",
    "X_train /= 255\n",
    "X_test /= 255\n",
    "#transform 0-9 to categorical using one hot encoding\n",
    "y_train = np_utils.to_categorical(y_train)\n",
    "y_test = np_utils.to_categorical(y_test)\n",
    "num_classes = y_test.shape[1]"
   ]
  },
  {
   "cell_type": "code",
   "execution_count": 18,
   "id": "27187acb",
   "metadata": {},
   "outputs": [
    {
     "data": {
      "text/plain": [
       "(60000, 28, 28)"
      ]
     },
     "execution_count": 18,
     "metadata": {},
     "output_type": "execute_result"
    }
   ],
   "source": [
    "X_train.shape"
   ]
  },
  {
   "cell_type": "code",
   "execution_count": 20,
   "id": "a9d64dff",
   "metadata": {},
   "outputs": [],
   "source": [
    "def baseline_model():\n",
    "    model = Sequential()\n",
    "    model.add(Dense(num_pixels, input_dim=num_pixels, activation=\"relu\"))\n",
    "    model.add(Dense(num_classes, activation=\"softmax\"))\n",
    "    model.compile(loss=\"categorical_crossentropy\", optimizer=\"adam\", metrics=[\"accuracy\"])\n",
    "    return model"
   ]
  },
  {
   "cell_type": "code",
   "execution_count": 22,
   "id": "2def029c",
   "metadata": {},
   "outputs": [
    {
     "name": "stdout",
     "output_type": "stream",
     "text": [
      "Epoch 1/10\n",
      "300/300 - 2s - loss: 0.2784 - accuracy: 0.9213 - val_loss: 0.1372 - val_accuracy: 0.9593\n",
      "Epoch 2/10\n",
      "300/300 - 2s - loss: 0.1115 - accuracy: 0.9677 - val_loss: 0.0914 - val_accuracy: 0.9719\n",
      "Epoch 3/10\n",
      "300/300 - 2s - loss: 0.0714 - accuracy: 0.9792 - val_loss: 0.0779 - val_accuracy: 0.9741\n",
      "Epoch 4/10\n",
      "300/300 - 2s - loss: 0.0499 - accuracy: 0.9860 - val_loss: 0.0681 - val_accuracy: 0.9793\n",
      "Epoch 5/10\n",
      "300/300 - 2s - loss: 0.0376 - accuracy: 0.9894 - val_loss: 0.0709 - val_accuracy: 0.9771\n",
      "Epoch 6/10\n",
      "300/300 - 2s - loss: 0.0280 - accuracy: 0.9921 - val_loss: 0.0597 - val_accuracy: 0.9821\n",
      "Epoch 7/10\n",
      "300/300 - 2s - loss: 0.0204 - accuracy: 0.9947 - val_loss: 0.0642 - val_accuracy: 0.9793\n",
      "Epoch 8/10\n",
      "300/300 - 2s - loss: 0.0158 - accuracy: 0.9962 - val_loss: 0.0648 - val_accuracy: 0.9801\n",
      "Epoch 9/10\n",
      "300/300 - 2s - loss: 0.0114 - accuracy: 0.9975 - val_loss: 0.0635 - val_accuracy: 0.9798\n",
      "Epoch 10/10\n",
      "300/300 - 2s - loss: 0.0080 - accuracy: 0.9986 - val_loss: 0.0692 - val_accuracy: 0.9790\n"
     ]
    },
    {
     "data": {
      "text/plain": [
       "<tensorflow.python.keras.callbacks.History at 0x240e8dd3160>"
      ]
     },
     "execution_count": 22,
     "metadata": {},
     "output_type": "execute_result"
    }
   ],
   "source": [
    "model = baseline_model()\n",
    "model.fit(X_train, y_train, validation_data=(X_test, y_test), epochs=10, batch_size=200, verbose=2)"
   ]
  },
  {
   "cell_type": "code",
   "execution_count": 23,
   "id": "1c353d1f",
   "metadata": {},
   "outputs": [
    {
     "name": "stdout",
     "output_type": "stream",
     "text": [
      "Baseline Error: 2.10%\n"
     ]
    }
   ],
   "source": [
    "scores = model.evaluate(X_test, y_test, verbose=0)\n",
    "print(\"Baseline Error: %.2f%%\" % (100-scores[1]*100))"
   ]
  },
  {
   "cell_type": "code",
   "execution_count": null,
   "id": "00e5c5cc",
   "metadata": {},
   "outputs": [],
   "source": []
  }
 ],
 "metadata": {
  "kernelspec": {
   "display_name": "Python 3",
   "language": "python",
   "name": "python3"
  },
  "language_info": {
   "codemirror_mode": {
    "name": "ipython",
    "version": 3
   },
   "file_extension": ".py",
   "mimetype": "text/x-python",
   "name": "python",
   "nbconvert_exporter": "python",
   "pygments_lexer": "ipython3",
   "version": "3.8.8"
  },
  "toc": {
   "base_numbering": 1,
   "nav_menu": {},
   "number_sections": true,
   "sideBar": true,
   "skip_h1_title": false,
   "title_cell": "Table of Contents",
   "title_sidebar": "Contents",
   "toc_cell": false,
   "toc_position": {},
   "toc_section_display": true,
   "toc_window_display": false
  }
 },
 "nbformat": 4,
 "nbformat_minor": 5
}
