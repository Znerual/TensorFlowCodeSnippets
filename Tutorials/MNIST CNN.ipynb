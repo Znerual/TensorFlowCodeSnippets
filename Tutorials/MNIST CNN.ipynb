{
 "cells": [
  {
   "cell_type": "code",
   "execution_count": 1,
   "id": "6b9c78fe",
   "metadata": {},
   "outputs": [],
   "source": [
    "from keras.datasets import mnist\n",
    "from keras.models import Sequential\n",
    "from keras.layers import Dense\n",
    "from keras.layers import Dropout\n",
    "from keras.layers import Flatten\n",
    "from keras.layers.convolutional import Conv2D\n",
    "from keras.layers.convolutional import MaxPooling2D\n",
    "from keras.utils import np_utils"
   ]
  },
  {
   "cell_type": "code",
   "execution_count": 2,
   "id": "706b0046",
   "metadata": {},
   "outputs": [],
   "source": [
    "(X_train, y_train), (X_test, y_test) = mnist.load_data()"
   ]
  },
  {
   "cell_type": "code",
   "execution_count": 3,
   "id": "39e08831",
   "metadata": {},
   "outputs": [],
   "source": [
    "#reshape to [#samples][#width][#height][#channels]\n",
    "X_train = X_train.reshape(X_train.shape[0], 28,28,1).astype(\"float32\")\n",
    "X_test = X_test.reshape(X_test.shape[0], 28,28,1).astype(\"float32\")\n",
    "X_train /= 255\n",
    "X_test /= 255\n",
    "#transform 0-9 to categorical using one hot encoding\n",
    "y_train = np_utils.to_categorical(y_train)\n",
    "y_test = np_utils.to_categorical(y_test)\n",
    "num_classes = y_test.shape[1]"
   ]
  },
  {
   "cell_type": "code",
   "execution_count": 6,
   "id": "3e968167",
   "metadata": {},
   "outputs": [],
   "source": [
    "def baseline_model():\n",
    "    model = Sequential()\n",
    "    model.add(Conv2D(32,(5,5), input_shape=(28,28,1), activation=\"relu\"))\n",
    "    model.add(MaxPooling2D())\n",
    "    model.add(Dropout(0.2))\n",
    "    model.add(Flatten())\n",
    "    model.add(Dense(128,activation=\"relu\"))\n",
    "    model.add(Dense(num_classes, activation=\"softmax\"))\n",
    "    model.compile(loss=\"categorical_crossentropy\", optimizer=\"adam\", metrics=[\"accuracy\"])\n",
    "    return model\n",
    "\n",
    "def advanced_model():\n",
    "    model = Sequential()\n",
    "    model.add(Conv2D(30,(5,5), input_shape=(28,28,1), activation=\"relu\"))\n",
    "    model.add(MaxPooling2D())\n",
    "    model.add(Conv2D(15,(3,3), activation=\"relu\"))\n",
    "    model.add(MaxPooling2D())\n",
    "    model.add(Dropout(0.2))\n",
    "    model.add(Flatten())\n",
    "    model.add(Dense(128,activation=\"relu\"))\n",
    "    model.add(Dense(50,activation=\"relu\"))\n",
    "    model.add(Dense(num_classes, activation=\"softmax\"))\n",
    "    model.compile(loss=\"categorical_crossentropy\", optimizer=\"adam\", metrics=[\"accuracy\"])\n",
    "    return model"
   ]
  },
  {
   "cell_type": "code",
   "execution_count": 7,
   "id": "3fa72473",
   "metadata": {},
   "outputs": [
    {
     "name": "stdout",
     "output_type": "stream",
     "text": [
      "Model: \"sequential_1\"\n",
      "_________________________________________________________________\n",
      "Layer (type)                 Output Shape              Param #   \n",
      "=================================================================\n",
      "conv2d (Conv2D)              (None, 24, 24, 30)        780       \n",
      "_________________________________________________________________\n",
      "max_pooling2d (MaxPooling2D) (None, 12, 12, 30)        0         \n",
      "_________________________________________________________________\n",
      "conv2d_1 (Conv2D)            (None, 10, 10, 15)        4065      \n",
      "_________________________________________________________________\n",
      "max_pooling2d_1 (MaxPooling2 (None, 5, 5, 15)          0         \n",
      "_________________________________________________________________\n",
      "dropout (Dropout)            (None, 5, 5, 15)          0         \n",
      "_________________________________________________________________\n",
      "flatten (Flatten)            (None, 375)               0         \n",
      "_________________________________________________________________\n",
      "dense (Dense)                (None, 128)               48128     \n",
      "_________________________________________________________________\n",
      "dense_1 (Dense)              (None, 50)                6450      \n",
      "_________________________________________________________________\n",
      "dense_2 (Dense)              (None, 10)                510       \n",
      "=================================================================\n",
      "Total params: 59,933\n",
      "Trainable params: 59,933\n",
      "Non-trainable params: 0\n",
      "_________________________________________________________________\n",
      "Epoch 1/10\n",
      "300/300 - 15s - loss: 0.3696 - accuracy: 0.8853 - val_loss: 0.0788 - val_accuracy: 0.9761\n",
      "Epoch 2/10\n",
      "300/300 - 15s - loss: 0.0959 - accuracy: 0.9704 - val_loss: 0.0484 - val_accuracy: 0.9853\n",
      "Epoch 3/10\n",
      "300/300 - 16s - loss: 0.0694 - accuracy: 0.9784 - val_loss: 0.0379 - val_accuracy: 0.9887\n",
      "Epoch 4/10\n",
      "300/300 - 16s - loss: 0.0549 - accuracy: 0.9827 - val_loss: 0.0330 - val_accuracy: 0.9895\n",
      "Epoch 5/10\n",
      "300/300 - 16s - loss: 0.0478 - accuracy: 0.9849 - val_loss: 0.0298 - val_accuracy: 0.9903\n",
      "Epoch 6/10\n",
      "300/300 - 16s - loss: 0.0397 - accuracy: 0.9877 - val_loss: 0.0287 - val_accuracy: 0.9913\n",
      "Epoch 7/10\n",
      "300/300 - 16s - loss: 0.0370 - accuracy: 0.9887 - val_loss: 0.0280 - val_accuracy: 0.9909\n",
      "Epoch 8/10\n",
      "300/300 - 16s - loss: 0.0329 - accuracy: 0.9896 - val_loss: 0.0247 - val_accuracy: 0.9919\n",
      "Epoch 9/10\n",
      "300/300 - 16s - loss: 0.0299 - accuracy: 0.9902 - val_loss: 0.0210 - val_accuracy: 0.9937\n",
      "Epoch 10/10\n",
      "300/300 - 16s - loss: 0.0277 - accuracy: 0.9908 - val_loss: 0.0253 - val_accuracy: 0.9919\n"
     ]
    },
    {
     "data": {
      "text/plain": [
       "<tensorflow.python.keras.callbacks.History at 0x25e4d5bf310>"
      ]
     },
     "execution_count": 7,
     "metadata": {},
     "output_type": "execute_result"
    }
   ],
   "source": [
    "model = advanced_model()\n",
    "model.fit(X_train, y_train, validation_data=(X_test, y_test), epochs=10, batch_size=200, verbose=2)"
   ]
  },
  {
   "cell_type": "code",
   "execution_count": 8,
   "id": "a829973f",
   "metadata": {},
   "outputs": [
    {
     "name": "stdout",
     "output_type": "stream",
     "text": [
      "Advanced model Error: 0.81%\n"
     ]
    }
   ],
   "source": [
    "scores = model.evaluate(X_test, y_test, verbose=0)\n",
    "print(\"Advanced model Error: %.2f%%\" % (100-scores[1]*100))"
   ]
  },
  {
   "cell_type": "code",
   "execution_count": null,
   "id": "0956a402",
   "metadata": {},
   "outputs": [],
   "source": []
  }
 ],
 "metadata": {
  "kernelspec": {
   "display_name": "Python 3",
   "language": "python",
   "name": "python3"
  },
  "language_info": {
   "codemirror_mode": {
    "name": "ipython",
    "version": 3
   },
   "file_extension": ".py",
   "mimetype": "text/x-python",
   "name": "python",
   "nbconvert_exporter": "python",
   "pygments_lexer": "ipython3",
   "version": "3.8.8"
  },
  "toc": {
   "base_numbering": 1,
   "nav_menu": {},
   "number_sections": true,
   "sideBar": true,
   "skip_h1_title": false,
   "title_cell": "Table of Contents",
   "title_sidebar": "Contents",
   "toc_cell": false,
   "toc_position": {},
   "toc_section_display": true,
   "toc_window_display": false
  }
 },
 "nbformat": 4,
 "nbformat_minor": 5
}
