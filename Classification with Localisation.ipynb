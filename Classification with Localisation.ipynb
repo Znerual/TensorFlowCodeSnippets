{
 "cells": [
  {
   "cell_type": "markdown",
   "id": "ab95f22c",
   "metadata": {},
   "source": [
    "# Links\n",
    "https://learnopencv.com/classification-with-localization/"
   ]
  },
  {
   "cell_type": "markdown",
   "id": "194954d2",
   "metadata": {},
   "source": [
    "Klassifizierung mit Lokalisierung könnte für unsere Aufgabe das Richtige zu sein. Es kann ein Objekt detektiert und dessen Position bestimmt werden. Object Detection als Erweiterung kann hingegen viele Objekte gleichzeitig detektieren und lokalisieren."
   ]
  },
  {
   "cell_type": "code",
   "execution_count": null,
   "id": "f9193a7d",
   "metadata": {},
   "outputs": [],
   "source": []
  }
 ],
 "metadata": {
  "kernelspec": {
   "display_name": "Python 3",
   "language": "python",
   "name": "python3"
  },
  "language_info": {
   "codemirror_mode": {
    "name": "ipython",
    "version": 3
   },
   "file_extension": ".py",
   "mimetype": "text/x-python",
   "name": "python",
   "nbconvert_exporter": "python",
   "pygments_lexer": "ipython3",
   "version": "3.8.8"
  }
 },
 "nbformat": 4,
 "nbformat_minor": 5
}
