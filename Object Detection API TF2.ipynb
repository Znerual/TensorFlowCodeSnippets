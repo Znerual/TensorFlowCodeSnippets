{
 "cells": [
  {
   "cell_type": "markdown",
   "metadata": {},
   "source": [
    "# Links \n",
    "- https://tensorflow-object-detection-api-tutorial.readthedocs.io/en/latest/training.html\n",
    "- https://medium.com/@abinovarghese/installing-coco-api-in-windows-python-9b4dfc3812ef"
   ]
  },
  {
   "cell_type": "markdown",
   "metadata": {},
   "source": [
    "# Installation"
   ]
  },
  {
   "cell_type": "markdown",
   "metadata": {},
   "source": [
    "## Nb_extensions\n",
    "For instance for table of content and others\n",
    "- pip install jupyter_contrib_nbextensions\n",
    "- jupyter contrib nbextension install --user"
   ]
  },
  {
   "cell_type": "markdown",
   "metadata": {},
   "source": [
    "## Tensor Flow Object Detection API TF 2 (PIP)\n",
    "WICHTIG: Die aktuellen TF Version hat nicht funktioniert! Ein pip install tensorflow hat das Problem behoben.\n",
    "- git clone https://github.com/tensorflow/models.git in ein Verzeichnis mit dem Namen TensorFlow. Es sollte dann TensorFlow\\models\\research existieren\n",
    "- falls noch nicht verhanden, google protobuf herunter laden\n",
    "    - neueste zip version https://github.com/protocolbuffers/protobuf/releases auswählen (windows Version) und in einen Ordner extrahieren\n",
    "    - Pfad anpassen in den Umgebungsvariablen und Pfad zu protobuf hinzufügen (den Pfad zum ...\\bin)\n",
    "    - cmd -> protoc sollte nun funktionieren\n",
    "- kopiere ...\\TensorFlow\\models\\research\\object_detection\\packages\\tf2\\setup.py nach ...\\TensorFlow\\models\\research\\setup.py\n",
    "- gehe in den Ordner ...\\TensorFlow\\models\\research\\ und installiere das Packet mit python -m pip install .\n",
    "    - Falls es hier zu einem Fehler kommt bei Running setup.py install for pycocotools ... error: ... dann:\n",
    "        - pip install cython\n",
    "        - pip install git+https://github.com/philferriere/cocoapi.git#subdirectory=PythonAPI\n",
    "            - Falls es zu einem Fehler kommt: Das System kann den angegebenen Pfad nicht finden: 'C:\\\\Program Files (x86)\\\\Microsoft Visual Studio 14.0\\\\VC\\\\PlatformSDK\\\\lib'\n",
    "                - VS 19 Build Tools installieren ( https://visualstudio.microsoft.com/thank-you-downloading-visual-studio/?sku=BuildTools&rel=16 )\n",
    "                \n",
    "## Tensor Flow Object Detection API TF 2 (Versuch Anaconda)\n",
    "\n",
    "- Anaconda herunterladen\n",
    "- Tensorflow, Keras auswählen im Navigator\n",
    "- git clone  TensorFlow/models/research/ https://github.com/tensorflow/models.git in ein Verzeichnis mit dem Namen TensorFlow\n",
    "- cd TensorFlow\\models\\research \n",
    "- protoc object_detection/protos/*.proto --python_out=. \n",
    "- evt. falls später ein Fehler kommt bei pycocotools: pip install git+https://github.com/philferriere/cocoapi.git#subdirectory=PythonAPI\n",
    "    - Hier gab es ein Problem mit dem C++ kompiler, VS 19 Build Tools installieren hat das Problem gelöst \n",
    "- copy object_detection/packages/tf2/setup.py . (evt. händisch kopieren)\n",
    "- python -m pip install .\n",
    "- testen mit python object_detection/builders/model_builder_tf2_test.py"
   ]
  },
  {
   "cell_type": "markdown",
   "metadata": {},
   "source": [
    "## Tensor Flow Object Detection API TF 2 (PIP, 2. Versuch)\n",
    "Die Lösung war die build tools von Visual Studio 2019 zu installieren, damit war pycoco über philferriere's Repository kompilierbar und die Installation hat geklappt"
   ]
  },
  {
   "cell_type": "markdown",
   "metadata": {},
   "source": [
    "## Ausführen auf der Grafikkarte\n",
    "Es wird für die Installation von CUDA eine aktuelle Installation von Visual Studio benötigt, VS 15 wird nicht mehr unterstützt. Dafür habe ich die Community Edition 2019 herunter geladen und hier die C++ Entwicklungsoptionen aktiviert. Besonders wichtig ist der MSVC Compiler. Die benötigten Versionen finden sich hier (https://docs.nvidia.com/cuda/cuda-installation-guide-microsoft-windows/index.html)\n",
    "\n",
    "Danach die cuda toolskit Version 11.* (ich hatte 11.3) installieren (https://developer.nvidia.com/cuda-downloads?target_os=Windows&target_arch=x86_64&target_version=10&target_type=exe_local)\n",
    "\n",
    "Und ebenso die zugehörige cudNN (https://developer.nvidia.com/rdp/cudnn-download) und über die Anleitung https://docs.nvidia.com/deeplearning/cudnn/install-guide/index.html#install-windows entpacken und im Cuda Ordner platzieren (standard ist C:\\Program Files\\NVIDIA GPU Computing Toolkit\\CUDA\\v11.3)\n",
    "\n",
    "Das skript TensorFlow\\scripts\\gpu_test.py sollte nun die Grafikkarte finden (standardname ist 0)"
   ]
  },
  {
   "cell_type": "markdown",
   "metadata": {},
   "source": [
    "## Andere Tools\n",
    "### LabelImg\n",
    "- Zum einfachen annotieren von Daten, herunterladen über pip install labelImg, aufrufen über labelImg in der Konsole"
   ]
  },
  {
   "cell_type": "markdown",
   "metadata": {},
   "source": [
    "# Daten Vorbereiten"
   ]
  },
  {
   "cell_type": "markdown",
   "metadata": {},
   "source": [
    "- Im Ordner TensorFlow\\workspace einen neuen Projektordner erstellen (workspace evt neu erstellen)\n",
    "- Bilddaten in ein passendes Verzeichnis kopieren und einen annotations Ordner anlegen\n",
    "- Bilddaten annotieren (zB labelImg), diese annotationen werden meist als .xml Datei gespeichert und sollen im gleichen Ordner liegen\n",
    "- Bilder aufteilen in test und trainingsdaten, dafür das skript in TensorFlow\\scripts\\preprocessing verwenden mit python partition_dataset.py [-h] [-i IMAGEDIR] [-o OUTPUTDIR] [-r RATIO] [-x] , wobei -x gesetzt werden muss um die .xml Datein mit zu kopieren\n",
    "- Als nächstes muss die Labelmap erstellt werden, diese weist jedem label des Netzes eine ID zu und hat die Dateiendung .pbtxt. Diese kommt in den annotations Ordner bsp:"
   ]
  },
  {
   "cell_type": "raw",
   "metadata": {},
   "source": [
    "item {\n",
    "    id: 1\n",
    "    name: 'cat'\n",
    "}\n",
    "\n",
    "item {\n",
    "    id: 2\n",
    "    name: 'dog'\n",
    "}"
   ]
  },
  {
   "cell_type": "markdown",
   "metadata": {},
   "source": [
    "- Tensorflow erwartet für die Annotationen das TFRecord Format, dieses kann über:\n",
    "    - TensorFlow\\scripts\\preprocessing\\generate_tfrecord.py [-h] [-x XML_DIR] [-l LABELS_PATH] [-o OUTPUT_PATH] [-i IMAGE_DIR] [-c CSV_PATH] erstellt werden"
   ]
  },
  {
   "cell_type": "markdown",
   "metadata": {},
   "source": [
    "# Model vorbereiten"
   ]
  },
  {
   "cell_type": "markdown",
   "metadata": {},
   "source": [
    "- Die gewünschten vortrainierten Netze können von https://github.com/tensorflow/models/blob/master/research/object_detection/g3doc/tf2_detection_zoo.md herunter geladen werde. Diese dann entpacken (2mal) und in einen Ordner pre-trained-models im Projektverzeichnis kopieren. \n",
    "- Die pipeline.config Datei aus dem vortrainierten Netzt nun in den leeren Ordner workspace\\Projektname\\models kopieren\n",
    "- In dieser müssen nun die Werte angepasst werden: !ACHTUNG!: Alle Pfade müssen mit / getrennt werden und nicht mit \\, sonst kommt ein UnicodeDecoder Fehler\n",
    "    - num_class (Anzahl an zu erkennenden Klassen)\n",
    "    - batch_size (größer bei mehr verfügbarem Speicher)\n",
    "    - fine_tune_checkpoint: \"...\" (Pfad zu checkpoint ../checkpoint/ckpt-0)\n",
    "    - fine_tune_checkpoint_type: \"detection\" (\"classification wenn nur die klassifizierung geändert werden soll)\n",
    "    - use_bfloat16: false (nur true wenn auf einem TPU trainiert wird)\n",
    "    - label_map_path: \"annotations/label_map.pbtxt\" (Pfad zur label map Datei, in train_input_reader und eval_input_reader)\n",
    "    - train_input_reader { ... input_path: \"annotations/train.record\" (Pfad zur train .record Datei)\n",
    "    - eval_config { \n",
    "        - metrics_set: \"coco_detection_metrics\"\n",
    "        - use_moving_averages: false (Für die Evaluierung des Models, beide Einstellungen sind optional)\n",
    "    - eval_input_reader { ...input_path: \"annotations/test.record\" (Pfad zur test .record Datei)\n",
    "    - kopiere ..\\TensorFlow\\models\\research\\object_detection\\model_main_tf2.py"
   ]
  },
  {
   "cell_type": "markdown",
   "metadata": {},
   "source": [
    "### weiterführende anpassungen\n",
    "unter https://github.com/tensorflow/models kann über die Suche von parameter_name path:research/object_detection/protos , wobei parameter_name natürlich ausgetauscht werden muss, näheres über die möglichen Parameter gefunden werden, die die ODA annimmt."
   ]
  },
  {
   "cell_type": "markdown",
   "metadata": {},
   "source": [
    "# Training"
   ]
  },
  {
   "cell_type": "code",
   "execution_count": null,
   "metadata": {},
   "outputs": [],
   "source": [
    "- python model_main_tf2.py --model_dir=models/ssd_resnet --pipeline_config_path=models/ssd_resnet/pipeline.config checkpoint_every_n=1500"
   ]
  },
  {
   "cell_type": "markdown",
   "metadata": {},
   "source": [
    "## Monitoring\n",
    "Das Training kann über Tensorboard beobachtet werden, dafür eine neue Kommandozeile öffnen und tensorboard starten (im Projektordner)\n",
    "- tensorboard --logdir=models/ssd_resnet"
   ]
  },
  {
   "cell_type": "markdown",
   "metadata": {},
   "source": [
    "## Evaluierung\n",
    "Um die Metriken zu berechnen muss neben dem Training ein zweiter Prozess gestartet werden, dafür eine neue cmd öffnen, aktivieren und ins workspace verzeichnis wechseln. Dort dann den befehl (siehe unten) ausführen. Wichtig hierbei ist, dass der checkpoint pfad gefunden wird, ansonsten wartet er endlos auf einen neuen Checkpoint. Hierfür hat ein ./ vor dem Pfad geholfen, um zu zeigen dass das Lokale Verzeichnis der Startpunkt ist.\n"
   ]
  },
  {
   "cell_type": "code",
   "execution_count": null,
   "metadata": {},
   "outputs": [],
   "source": [
    "python model_main_tf2.py --pipeline_config_path=models/ssd_resnet/pipeline.config --model_dir=models/ssd_resnet --checkpoint_dir=./models/ssd_resnet/ --num_workers=2 --sample_1_of_n_eval_examples=1"
   ]
  },
  {
   "cell_type": "markdown",
   "metadata": {},
   "source": [
    "Pycoco Fehler mit numpy linspace\n",
    "In Datei C:\\sma_2.0.1.dev3\\python-3.7.6.amd64\\Lib\\site-packages\\pycocotools Zeile 507 und 507 zu:"
   ]
  },
  {
   "cell_type": "code",
   "execution_count": null,
   "metadata": {},
   "outputs": [],
   "source": [
    "self.iouThrs = np.linspace(.5, 0.95, int(np.round((0.95 - .5) / .05)) + 1, endpoint=True)\n",
    "self.recThrs = np.linspace(.0, 1.00, int(np.round((1.00 - .0) / .01)) + 1, endpoint=True)"
   ]
  },
  {
   "cell_type": "markdown",
   "metadata": {},
   "source": [
    "ändern"
   ]
  },
  {
   "cell_type": "markdown",
   "metadata": {},
   "source": [
    "## Model speichern\n",
    "- TensorFlow/models/research/object_detection/exporter_main_v2.py ins Projektverzeichnis kopieren\n",
    "- Dieses dann ausführen mit:\n",
    "    - "
   ]
  },
  {
   "cell_type": "code",
   "execution_count": null,
   "metadata": {},
   "outputs": [],
   "source": [
    "python exporter_main_v2.py --input_type image_tensor --pipeline_config_path models\\ssd_resnet\\pipeline.config --trained_checkpoint_dir models\\ssd_resnet\\ --output_directory exported_models\\ssd_resnet"
   ]
  },
  {
   "cell_type": "markdown",
   "metadata": {},
   "source": [
    "## Ergebnisse laden und anwenden\n",
    "https://tensorflow-object-detection-api-tutorial.readthedocs.io/en/latest/auto_examples/plot_object_detection_saved_model.html"
   ]
  },
  {
   "cell_type": "markdown",
   "metadata": {},
   "source": [
    "https://towardsdatascience.com/custom-object-detection-using-tensorflow-from-scratch-e61da2e10087"
   ]
  }
 ],
 "metadata": {
  "kernelspec": {
   "display_name": "Python 3",
   "language": "python",
   "name": "python3"
  },
  "language_info": {
   "codemirror_mode": {
    "name": "ipython",
    "version": 3
   },
   "file_extension": ".py",
   "mimetype": "text/x-python",
   "name": "python",
   "nbconvert_exporter": "python",
   "pygments_lexer": "ipython3",
   "version": "3.7.6"
  },
  "toc": {
   "base_numbering": 1,
   "nav_menu": {},
   "number_sections": true,
   "sideBar": true,
   "skip_h1_title": false,
   "title_cell": "Table of Contents",
   "title_sidebar": "Contents",
   "toc_cell": false,
   "toc_position": {},
   "toc_section_display": true,
   "toc_window_display": false
  }
 },
 "nbformat": 4,
 "nbformat_minor": 4
}
