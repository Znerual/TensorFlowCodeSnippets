{
 "cells": [
  {
   "cell_type": "markdown",
   "id": "1c2ae504",
   "metadata": {},
   "source": [
    "# Start Environment"
   ]
  },
  {
   "cell_type": "code",
   "execution_count": null,
   "id": "2f1c3d39",
   "metadata": {},
   "outputs": [],
   "source": [
    "c:\\sma_2.0.1.dev3\\scripts\\env.bat"
   ]
  },
  {
   "cell_type": "markdown",
   "id": "2bd78174",
   "metadata": {},
   "source": [
    "# Install requirements\n",
    "python -m pip install keyring\n",
    "pip install fabric\n",
    "\n",
    "python -m pip install -e .\n",
    "Bei einem Fehler war die sma installation zu entfernen und dann die einzelnen namespace packages über den Befehl oben zu installieren"
   ]
  },
  {
   "cell_type": "code",
   "execution_count": null,
   "id": "c2a84b7e",
   "metadata": {},
   "outputs": [],
   "source": []
  }
 ],
 "metadata": {
  "kernelspec": {
   "display_name": "Python 3",
   "language": "python",
   "name": "python3"
  },
  "language_info": {
   "codemirror_mode": {
    "name": "ipython",
    "version": 3
   },
   "file_extension": ".py",
   "mimetype": "text/x-python",
   "name": "python",
   "nbconvert_exporter": "python",
   "pygments_lexer": "ipython3",
   "version": "3.8.8"
  }
 },
 "nbformat": 4,
 "nbformat_minor": 5
}
